{
 "cells": [
  {
   "cell_type": "code",
   "execution_count": null,
   "metadata": {},
   "outputs": [],
   "source": [
    "import numpy as np\n",
    "import re"
   ]
  },
  {
   "cell_type": "code",
   "execution_count": null,
   "metadata": {},
   "outputs": [],
   "source": [
    "f = open(\"book-war-and-peace.txt\")\n",
    "t = f.readlines()\n",
    "t = ''.join(t)"
   ]
  },
  {
   "cell_type": "code",
   "execution_count": null,
   "metadata": {},
   "outputs": [],
   "source": [
    "text = re.sub('[^a-zA-Z]', ' ', t)[:50000]\n",
    "text = text.lower()"
   ]
  },
  {
   "cell_type": "code",
   "execution_count": null,
   "metadata": {},
   "outputs": [],
   "source": [
    "d = {}\n",
    "for i in range(0, 26):\n",
    "    d[chr(i+97)] = i\n",
    "d[' '] = 26"
   ]
  },
  {
   "cell_type": "code",
   "execution_count": null,
   "metadata": {},
   "outputs": [],
   "source": [
    "V = np.zeros(50000)\n",
    "for i in range(len(text)):\n",
    "    V[i] = d[text[i]]"
   ]
  },
  {
   "cell_type": "code",
   "execution_count": null,
   "metadata": {},
   "outputs": [],
   "source": [
    "V = V.astype(int)\n",
    "print(V)"
   ]
  },
  {
   "cell_type": "code",
   "execution_count": null,
   "metadata": {},
   "outputs": [],
   "source": [
    "# Transition Probabilities\n",
    "a = np.array([[0.47468,0.52532],[0.51656,0.48344]])\n",
    "print(a)"
   ]
  },
  {
   "cell_type": "code",
   "execution_count": null,
   "metadata": {},
   "outputs": [],
   "source": [
    "b = np.array([[0.03735,0.03909 ],\n",
    "[0.03408 ,0.03537 ],\n",
    "[0.03455 ,0.03537 ],\n",
    "[0.03828, 0.03909 ],\n",
    "[0.03782, 0.03583 ],\n",
    "[0.03922 ,0.03630 ],\n",
    "[0.03688, 0.04048 ],\n",
    "[0.03408, 0.03537 ],\n",
    "[0.03875 ,0.03816 ],\n",
    "[0.04062 ,0.03909 ],\n",
    "[0.03735 ,0.03490 ],\n",
    "[0.03968, 0.03723 ],\n",
    "[0.03548 ,0.03537 ],\n",
    "[0.03735 ,0.03909 ],\n",
    "[0.04062, 0.03397 ],\n",
    "[0.03595, 0.03397 ],\n",
    "[0.03641, 0.03816 ],\n",
    "[0.03408, 0.03676 ],\n",
    "[0.04062 ,0.04048 ],\n",
    "[0.03548, 0.03443 ],\n",
    "[0.03922, 0.03537 ],\n",
    "[0.04062 ,0.03955],\n",
    "[0.03455, 0.03816 ],\n",
    "[0.03595, 0.03723 ],\n",
    "[0.03408,0.03769 ],\n",
    "[0.03408 ,0.03955 ],\n",
    "[0.03688, 0.03397 ]])\n",
    "b = b.T\n",
    "print(b.shape)"
   ]
  },
  {
   "cell_type": "code",
   "execution_count": null,
   "metadata": {},
   "outputs": [],
   "source": [
    "# Equal Probabilities for the initial distribution\n",
    "initial_distribution = np.array([0.51316,0.48684])\n",
    "print(initial_distribution)"
   ]
  },
  {
   "cell_type": "code",
   "execution_count": null,
   "metadata": {},
   "outputs": [],
   "source": [
    "def forward(V, a, b, initial_distribution):\n",
    "    alpha = np.zeros((V.shape[0], a.shape[0]))\n",
    "    alpha[0, :] = initial_distribution * b[:, V[0]]\n",
    "\n",
    "    for t in range(1, V.shape[0]):\n",
    "        for j in range(a.shape[0]):\n",
    "            # Matrix Computation Steps\n",
    "            #                  ((1x2) . (1x2))      *     (1)\n",
    "            #                        (1)            *     (1)\n",
    "            alpha[t, j] = alpha[t - 1].dot(a[:, j]) * b[j, V[t]]\n",
    "\n",
    "    return alpha\n",
    "\n",
    "def backward(V, a, b):\n",
    "    beta = np.zeros((V.shape[0], a.shape[0]))\n",
    "\n",
    "    # setting beta(T) = 1\n",
    "    beta[V.shape[0] - 1] = np.ones((a.shape[0]))\n",
    "\n",
    "    # Loop in backward way from T-1 to\n",
    "    # Due to python indexing the actual loop will be T-2 to 0\n",
    "    for t in range(V.shape[0] - 2, -1, -1):\n",
    "        for j in range(a.shape[0]):\n",
    "            beta[t, j] = (beta[t + 1] * b[:, V[t + 1]]).dot(a[j, :])\n",
    "\n",
    "    return beta\n",
    "\n",
    "def baum_welch(V, a, b, initial_distribution, n_iter):\n",
    "    M = a.shape[0]\n",
    "    T = len(V)\n",
    "\n",
    "    for n in range(n_iter):\n",
    "        alpha = forward(V, a, b, initial_distribution)\n",
    "        beta = backward(V, a, b)\n",
    "\n",
    "        xi = np.zeros((M, M, T - 1))\n",
    "        for t in range(T - 1):\n",
    "            denominator = np.dot(np.dot(alpha[t, :].T, a) * b[:, V[t + 1]].T, beta[t + 1, :])\n",
    "            for i in range(M):\n",
    "                numerator = alpha[t, i] * a[i, :] * b[:, V[t + 1]].T * beta[t + 1, :].T\n",
    "                xi[i, :, t] = numerator / denominator\n",
    "\n",
    "        gamma = np.sum(xi, axis=1)\n",
    "        a = np.sum(xi, 2) / np.sum(gamma, axis=1).reshape((-1, 1))\n",
    "\n",
    "        # Add additional T'th element in gamma\n",
    "        gamma = np.hstack((gamma, np.sum(xi[:, :, T - 2], axis=0).reshape((-1, 1))))\n",
    "\n",
    "        K = b.shape[1]\n",
    "        denominator = np.sum(gamma, axis=1)\n",
    "        for l in range(K):\n",
    "            b[:, l] = np.sum(gamma[:, V == l], axis=1)\n",
    "\n",
    "        b = np.divide(b, denominator.reshape((-1, 1)))\n",
    "\n",
    "    return {\"a\":a, \"b\":b}"
   ]
  },
  {
   "cell_type": "code",
   "execution_count": null,
   "metadata": {},
   "outputs": [],
   "source": [
    "print(V.shape)\n",
    "print(a.shape)\n",
    "print(b.shape)\n",
    "print(V.shape[0], a.shape[0])"
   ]
  },
  {
   "cell_type": "code",
   "execution_count": null,
   "metadata": {},
   "outputs": [],
   "source": [
    "print(baum_welch(V, a, b, initial_distribution, n_iter=2))"
   ]
  }
 ],
 "metadata": {
  "language_info": {
   "name": "python"
  }
 },
 "nbformat": 4,
 "nbformat_minor": 2
}
