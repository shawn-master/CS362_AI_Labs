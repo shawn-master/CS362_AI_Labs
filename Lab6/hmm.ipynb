{
 "cells": [
  {
   "cell_type": "code",
   "execution_count": null,
   "metadata": {},
   "outputs": [],
   "source": [
    "import numpy as np\n",
    "import re\n",
    "from google.colab import drive"
   ]
  },
  {
   "cell_type": "code",
   "execution_count": null,
   "metadata": {},
   "outputs": [],
   "source": [
    "drive.mount(\"/content/drive\")"
   ]
  },
  {
   "cell_type": "code",
   "execution_count": null,
   "metadata": {},
   "outputs": [],
   "source": [
    "f = open(\"/content/book-war-and-peace.txt\")\n",
    "t = f.readlines()\n",
    "t = ''.join(t)"
   ]
  },
  {
   "cell_type": "code",
   "execution_count": null,
   "metadata": {},
   "outputs": [],
   "source": [
    "text = re.sub('[^a-zA-Z]', ' ', t)[:50000]\n",
    "text = text.lower()"
   ]
  },
  {
   "cell_type": "code",
   "execution_count": null,
   "metadata": {},
   "outputs": [],
   "source": [
    "d = {}\n",
    "for i in range(0, 26):\n",
    "    d[chr(i+97)] = i\n",
    "d[' '] = 26"
   ]
  },
  {
   "cell_type": "code",
   "execution_count": null,
   "metadata": {},
   "outputs": [],
   "source": [
    "V = np.zeros(50000)\n",
    "for i in range(len(text)):\n",
    "    V[i] = d[text[i]]"
   ]
  },
  {
   "cell_type": "code",
   "execution_count": null,
   "metadata": {},
   "outputs": [],
   "source": [
    "V = V[0:100].astype(int)\n",
    "print(V)"
   ]
  },
  {
   "cell_type": "code",
   "execution_count": null,
   "metadata": {},
   "outputs": [],
   "source": [
    "a = np.array([[0.47468,0.52532],[0.51656,0.48344]])\n",
    "print(a)"
   ]
  },
  {
   "cell_type": "code",
   "execution_count": null,
   "metadata": {},
   "outputs": [],
   "source": [
    "b = np.array([[0.03735,0.03909 ],\n",
    "[0.03408 ,0.03537 ],\n",
    "[0.03455 ,0.03537 ],\n",
    "[0.03828, 0.03909 ],\n",
    "[0.03782, 0.03583 ],\n",
    "[0.03922 ,0.03630 ],\n",
    "[0.03688, 0.04048 ],\n",
    "[0.03408, 0.03537 ],\n",
    "[0.03875 ,0.03816 ],\n",
    "[0.04062 ,0.03909 ],\n",
    "[0.03735 ,0.03490 ],\n",
    "[0.03968, 0.03723 ],\n",
    "[0.03548 ,0.03537 ],\n",
    "[0.03735 ,0.03909 ],\n",
    "[0.04062, 0.03397 ],\n",
    "[0.03595, 0.03397 ],\n",
    "[0.03641, 0.03816 ],\n",
    "[0.03408, 0.03676 ],\n",
    "[0.04062 ,0.04048 ],\n",
    "[0.03548, 0.03443 ],\n",
    "[0.03922, 0.03537 ],\n",
    "[0.04062 ,0.03955],\n",
    "[0.03455, 0.03816 ],\n",
    "[0.03595, 0.03723 ],\n",
    "[0.03408,0.03769 ],\n",
    "[0.03408 ,0.03955 ],\n",
    "[0.03688, 0.03397 ]])\n",
    "b = b.T\n",
    "print(b.shape)"
   ]
  },
  {
   "cell_type": "code",
   "execution_count": null,
   "metadata": {},
   "outputs": [],
   "source": [
    "pi = np.array([ 0.51316,0.48684])\n",
    "print(pi[0],pi[1])"
   ]
  },
  {
   "cell_type": "code",
   "execution_count": null,
   "metadata": {},
   "outputs": [],
   "source": [
    "print(V.shape)\n",
    "print(a.shape)\n",
    "print(b.shape)\n",
    "print(V.shape[0], a.shape[0])"
   ]
  },
  {
   "cell_type": "code",
   "execution_count": null,
   "metadata": {},
   "outputs": [],
   "source": [
    "N = 2\n",
    "M = 27\n",
    "MaxIters = 100\n",
    "iters = 0\n",
    "import math\n",
    "oldLogProb = -math.inf"
   ]
  },
  {
   "cell_type": "code",
   "execution_count": null,
   "metadata": {},
   "outputs": [],
   "source": [
    "T = len(V)\n",
    "print(T)"
   ]
  },
  {
   "cell_type": "code",
   "execution_count": null,
   "metadata": {},
   "outputs": [],
   "source": [
    "def War_peace(a,b,V,pi,N,M,T,oldLogProb):\n",
    "# Alpha pass\n",
    "    c = np.zeros([T, 1])\n",
    "    alpha = np.zeros([T,N])\n",
    "\n",
    "    for i in range(N):\n",
    "        alpha[0][i] = pi[i]*b[i][V[0]]\n",
    "        c[0][0] = c[0][0]+alpha[0][i]\n",
    "    c[0][0] = 1/c[0][0]\n",
    "\n",
    "    for i in range(N):\n",
    "        alpha[0][i] = c[0][0]*alpha[0][i]\n",
    "\n",
    "    for t in range(1,T):\n",
    "        c[t][0] = 0\n",
    "        for i in range(N):\n",
    "            alpha[t][i]=0\n",
    "            for j in range(N):\n",
    "                alpha[t][i] = alpha[t][i]+ alpha[t-1][i]*a[j][i]\n",
    "            alpha[t][i] = alpha[t][i]*b[i][V[t]]\n",
    "            c[t][0] = c[t][0] + alpha[t][i]\n",
    "\n",
    "\n",
    "        c[t][0] = 1/ c[t][0]\n",
    "\n",
    "\n",
    "        for i in range(N):\n",
    "            alpha[t][i] = c[t][0]*alpha[t][i]\n",
    "\n",
    "    # print(c)\n",
    "    beta = np.zeros([T,N])\n",
    "    for i in range(N):\n",
    "        beta[T-1][i] = c[T-1][0]\n",
    "\n",
    "    for t in range(T-2,-1,-1):\n",
    "        for i in range(N):\n",
    "            beta[t][i] = 0\n",
    "            for j in range(N):\n",
    "                beta[t][i] = beta[t][i]+ a[i][j]*b[j][V[t+1]]*beta[t+1][j]\n",
    "            beta[t][i] = c[t][0]*beta[t][i]\n",
    "\n",
    "\n",
    "\n",
    "    digamma=  np.zeros([T,N,N])\n",
    "    gamma =  np.zeros([T,N])\n",
    "    for t in range(T-1):\n",
    "        for i in range(N):\n",
    "            gamma[t][i]=0\n",
    "            for j in range(N):\n",
    "                digamma[t][i][j] = alpha[t][i]*a[i][j]*b[j][V[t+1]]*beta[t+1][j]\n",
    "                gamma[t][i] = gamma[t][i]+digamma[t][i][j]\n",
    "\n",
    "\n",
    "    for i in range(N):\n",
    "         gamma[T-1][i]= alpha[T-1][i]\n",
    "    # print(gamma)\n",
    "    # re-estimate π\n",
    "    for i in range(N):\n",
    "        pi[i] = gamma[0][i]\n",
    "    #re-estimate A\n",
    "    for i in range(N):\n",
    "        denom = 0\n",
    "        for t in range(T-1):\n",
    "            denom = denom + gamma[t][i]\n",
    "        for j in range(N):\n",
    "            numer = 0\n",
    "            for t in range(T-1):\n",
    "                numer = numer + digamma[t][i][j]\n",
    "            a[i][j] = numer/denom\n",
    "\n",
    "    #re-estimate B\n",
    "    for i in range(N):\n",
    "        denom = 0\n",
    "        for t in range(T):\n",
    "            denom = denom + gamma[t][i]\n",
    "        for j in range(M):\n",
    "            numer = 0\n",
    "            for t in range(T):\n",
    "                if (V[t]==j):\n",
    "                    numer = numer + gamma[t][i]\n",
    "            b[i][j] = numer/denom\n",
    "    import math\n",
    "    logprob = 0\n",
    "    for i in range(T):\n",
    "        logprob = logprob + math.log(c[i][0])\n",
    "    logprob = -1*logprob\n",
    "\n",
    "    if logprob>oldLogProb:\n",
    "        oldLogProb = logprob\n",
    "#             War_peace(a,b,V,pi,N,M,T,oldLogProb)\n",
    "\n",
    "\n",
    "    return a,b,pi,oldLogProb\n",
    "\n",
    "\n",
    "\n",
    "\n"
   ]
  },
  {
   "cell_type": "code",
   "execution_count": null,
   "metadata": {},
   "outputs": [],
   "source": [
    "A,B,pie,P = War_peace(a,b,V,pi,N,M,T,oldLogProb)\n",
    "for i in range(5):\n",
    "    A,B,pie,P =  War_peace(A,B,V,pie,N,M,T,P)\n",
    "\n",
    "\n",
    "\n",
    "print('A',A)\n",
    "print('B',B)\n",
    "print('PI',pie)\n",
    "print(\"log(p(0/lamda))\",P)\n"
   ]
  },
  {
   "cell_type": "code",
   "execution_count": null,
   "metadata": {},
   "outputs": [],
   "source": [
    "A,B,pie,P = War_peace(a,b,V,pi,N,M,T,oldLogProb)\n",
    "for i in range(5):\n",
    "    A,B,pie,P =  War_peace(A,B,V,pie,N,M,T,P)\n",
    "\n",
    "\n",
    "\n",
    "print('A',A)\n",
    "print('B',B)\n",
    "print('PI',pie)\n",
    "print(\"log(p(0/lamda))\",P)\n"
   ]
  }
 ],
 "metadata": {
  "language_info": {
   "name": "python"
  }
 },
 "nbformat": 4,
 "nbformat_minor": 2
}
