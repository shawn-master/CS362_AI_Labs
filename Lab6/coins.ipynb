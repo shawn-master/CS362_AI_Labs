{
 "cells": [
  {
   "cell_type": "code",
   "execution_count": null,
   "metadata": {},
   "outputs": [],
   "source": [
    "import numpy as np\n",
    "import pandas as pd\n",
    "from scipy.special import comb"
   ]
  },
  {
   "cell_type": "code",
   "execution_count": null,
   "metadata": {},
   "outputs": [],
   "source": [
    "np.random.seed(0)\n",
    "df = pd.read_csv(\"2020_ten_bent_coins.csv\").transpose()\n",
    "head_counts = df.sum().to_numpy()\n",
    "tail_counts = 100 - head_counts\n",
    "coin_selected = np.random.randint(0, 10, size=(500,))\n",
    "_, count_coins_selected = np.unique(coin_selected, return_counts=True)\n",
    "MLE_vector = np.zeros(10)"
   ]
  },
  {
   "cell_type": "code",
   "execution_count": null,
   "metadata": {},
   "outputs": [],
   "source": [
    "head_counts"
   ]
  },
  {
   "cell_type": "code",
   "execution_count": null,
   "metadata": {},
   "outputs": [],
   "source": [
    "for i,j in zip(head_counts, coin_selected):\n",
    "    MLE_vector[j]+=i"
   ]
  },
  {
   "cell_type": "code",
   "execution_count": null,
   "metadata": {},
   "outputs": [],
   "source": [
    "MLE_vector = MLE_vector/(count_coins_selected*100)"
   ]
  },
  {
   "cell_type": "code",
   "execution_count": null,
   "metadata": {},
   "outputs": [],
   "source": [
    "def compute_likelihood(obs, n, pheads):\n",
    "\n",
    "    likelihood = comb(n, obs, exact=True)*(pheads**obs)*(1.0-pheads)**(n-obs)\n",
    "\n",
    "    return likelihood"
   ]
  },
  {
   "cell_type": "code",
   "execution_count": null,
   "metadata": {},
   "outputs": [],
   "source": [
    "np.random.seed(0)\n",
    "p_heads = np.zeros((100,10))\n",
    "p_heads[0] = np.random.random((1,10))\n",
    "print(p_heads[0])\n",
    "eps = 0.001\n",
    "improvement = float('inf')\n",
    "\n",
    "epoch = 0\n",
    "while improvement>eps:\n",
    "\n",
    "    expectation = np.zeros((10, 500, 2))\n",
    "\n",
    "    for i in range(500):\n",
    "        eH = head_counts[i]\n",
    "        eT = tail_counts[i]\n",
    "\n",
    "        likelihood = np.zeros(10)\n",
    "\n",
    "        for j in range(10):\n",
    "\n",
    "            likelihood[j] = compute_likelihood(eH, 100, p_heads[epoch][j])\n",
    "\n",
    "        weights = likelihood/np.sum(likelihood)\n",
    "        for j in range(10):\n",
    "            expectation[j][i] = weights[j]*np.array([eH, eT])\n",
    "\n",
    "    thetas = np.zeros(10)\n",
    "    for i in range(10):\n",
    "        thetas[i] = np.sum(expectation[i], axis = 0)[0]/ np.sum(expectation[i])\n",
    "\n",
    "\n",
    "    p_heads[epoch+1] = thetas\n",
    "    print(f'Epoch: {epoch}\\nthetas: {thetas}')\n",
    "\n",
    "    improvement = max(abs(p_heads[epoch+1] - p_heads[epoch]))\n",
    "    epoch+=1"
   ]
  },
  {
   "cell_type": "code",
   "execution_count": null,
   "metadata": {},
   "outputs": [],
   "source": [
    "for i, j in enumerate(thetas):\n",
    "    print(f\"{i+1} & {j:.3f} \")"
   ]
  }
 ],
 "metadata": {
  "language_info": {
   "name": "python"
  }
 },
 "nbformat": 4,
 "nbformat_minor": 2
}
